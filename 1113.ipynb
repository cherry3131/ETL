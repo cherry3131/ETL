{
 "cells": [
  {
   "cell_type": "code",
   "execution_count": 1,
   "metadata": {},
   "outputs": [],
   "source": [
    "from selenium import webdriver  #從library中引入webdriver\n",
    "from selenium.webdriver.common.by import By # \n",
    "from selenium.webdriver.common.keys import Keys\n",
    "import time\n",
    "# driver = webdriver.Chrome() \n",
    "# test\n"
   ]
  },
  {
   "cell_type": "code",
   "execution_count": 29,
   "metadata": {},
   "outputs": [],
   "source": [
    "# 登入系統\n",
    "id_num = '填入id'\n",
    "pwd = '填入\\密碼'\n",
    "driver.get('https://www.1111.com.tw/login/index?ReturnUrl=https%3A%2F%2Fwww.1111.com.tw%2Fsearch%2Fjob%3Fc0%3D100900%252C100100%252C100200%252C100600%252C100700%252C100500%26d0%3D140600%252C140400%252C140500%252C140800%252C140200%252C140300%26page%3D1%26tt%3D1%26LoginStatus%3DLogOut')\n",
    "# find_dlement(抓取第一個符合的)\n",
    "driver.find_element(By.ID, \"id\").send_keys(id_num)\n",
    "driver.find_element(By.ID, \"pass\").send_keys(pwd)\n",
    "driver.find_element(By.ID, \"smlogin\").click()\n",
    "time.sleep(1)"
   ]
  }
 ],
 "metadata": {
  "kernelspec": {
   "display_name": "pttenv",
   "language": "python",
   "name": "python3"
  },
  "language_info": {
   "codemirror_mode": {
    "name": "ipython",
    "version": 3
   },
   "file_extension": ".py",
   "mimetype": "text/x-python",
   "name": "python",
   "nbconvert_exporter": "python",
   "pygments_lexer": "ipython3",
   "version": "3.8.10"
  }
 },
 "nbformat": 4,
 "nbformat_minor": 2
}
