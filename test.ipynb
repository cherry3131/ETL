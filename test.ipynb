{
 "cells": [
  {
   "cell_type": "code",
   "execution_count": 34,
   "metadata": {},
   "outputs": [
    {
     "name": "stdout",
     "output_type": "stream",
     "text": [
      "{' ks': '軟體工程,', 'page': '13,', 'searchType': 'job'}\n",
      "{' ks': '軟體工程,', 'page': '13,', 'searchType': 'job'}\n"
     ]
    },
    {
     "ename": "KeyError",
     "evalue": "'data'",
     "output_type": "error",
     "traceback": [
      "\u001b[1;31m---------------------------------------------------------------------------\u001b[0m",
      "\u001b[1;31mKeyError\u001b[0m                                  Traceback (most recent call last)",
      "Cell \u001b[1;32mIn[34], line 31\u001b[0m\n\u001b[0;32m     29\u001b[0m json_data \u001b[38;5;241m=\u001b[39m res\u001b[38;5;241m.\u001b[39mjson()\n\u001b[0;32m     30\u001b[0m \u001b[38;5;28mprint\u001b[39m(data_dict)\n\u001b[1;32m---> 31\u001b[0m html_str \u001b[38;5;241m=\u001b[39m \u001b[43mjson_data\u001b[49m\u001b[43m[\u001b[49m\u001b[38;5;124;43m\"\u001b[39;49m\u001b[38;5;124;43mdata\u001b[39;49m\u001b[38;5;124;43m\"\u001b[39;49m\u001b[43m]\u001b[49m[\u001b[38;5;124m\"\u001b[39m\u001b[38;5;124mcontent\u001b[39m\u001b[38;5;124m\"\u001b[39m]\n\u001b[0;32m     32\u001b[0m soup \u001b[38;5;241m=\u001b[39m BeautifulSoup(html_str, \u001b[38;5;124m\"\u001b[39m\u001b[38;5;124mhtml.parser\u001b[39m\u001b[38;5;124m\"\u001b[39m)\n\u001b[0;32m     34\u001b[0m \u001b[38;5;66;03m#--------- print(json_data)\u001b[39;00m\n\u001b[0;32m     35\u001b[0m \n\u001b[0;32m     36\u001b[0m \u001b[38;5;66;03m# # 解析 HTML\u001b[39;00m\n\u001b[1;32m   (...)\u001b[0m\n\u001b[0;32m     40\u001b[0m \u001b[38;5;66;03m# else:\u001b[39;00m\n\u001b[0;32m     41\u001b[0m \u001b[38;5;66;03m#     print(\"Key 'data' not found in response.\")\u001b[39;00m\n",
      "\u001b[1;31mKeyError\u001b[0m: 'data'"
     ]
    }
   ],
   "source": [
    "### 測試區間\n",
    "import json\n",
    "import requests\n",
    "from bs4 import BeautifulSoup # 使用在html\n",
    "\n",
    "HEADERS = {\n",
    "    \"User-Agent\":\"Mozilla/5.0 (Windows NT 10.0; Win64; x64) AppleWebKit/537.36 (KHTML, like Gecko) Chrome/122.0.0.0\"\n",
    "}\n",
    "url = \"https://webapi.1111.com.tw/gqlApi/api/search?act=load_page\"\n",
    "\n",
    "# 動態網頁下一頁\n",
    "# 點選Network/Payload頁籤\n",
    "data_str = \"\"\" ks: \"軟體工程\", \n",
    "page: \"13\", \n",
    "searchType: \"job\"\"\"\n",
    "\n",
    "data_dict = {}\n",
    "data_str_list = data_str.split(\"\\n\") \n",
    "\n",
    "#寫法一\n",
    "for row in data_str_list:\n",
    "    key, value = row.split(\": \")\n",
    "    key = key.strip('\"')\n",
    "    value = value.strip().replace('\"', '')  # 删除字串中間的雙引號\n",
    "    data_dict[key] = value\n",
    "print(data_dict)\n",
    "\n",
    "res = requests.post(url, headers=HEADERS, data=data_dict, timeout=600)\n",
    "json_data = res.json()\n",
    "# print(data_dict)\n",
    "html_str = json_data[\"data\"][\"content\"]\n",
    "soup = BeautifulSoup(html_str, \"html.parser\")\n",
    "\n",
    "#--------- print(json_data)\n",
    "\n",
    "# # 解析 HTML\n",
    "# if 'data' in json_data:\n",
    "#     html_str = json_data[\"data\"][\"content\"]\n",
    "#     soup = BeautifulSoup(html_str, \"html.parser\")\n",
    "# else:\n",
    "#     print(\"Key 'data' not found in response.\")\n"
   ]
  },
  {
   "cell_type": "code",
   "execution_count": null,
   "metadata": {},
   "outputs": [],
   "source": [
    "# virtualenv webenv\n",
    "# .\\webenv\\Scripts\\activate"
   ]
  },
  {
   "cell_type": "code",
   "execution_count": 20,
   "metadata": {},
   "outputs": [
    {
     "name": "stdout",
     "output_type": "stream",
     "text": [
      "{'errors': [{'message': 'Document does not contain any operations.', 'extensions': {'code': 'NO_OPERATION', 'codes': ['NO_OPERATION']}}]}\n"
     ]
    }
   ],
   "source": [
    "# 網路範例測試\n",
    "import json\n",
    "import urllib.parse\n",
    "# from urllib import request\n",
    "import urllib.request\n",
    "from bs4 import BeautifulSoup # 使用在html\n",
    "\n",
    "# 查看Fetch/XHR\n",
    "HEADERS = {\n",
    "    \"User-Agent\":\"Mozilla/5.0 (Windows NT 10.0; Win64; x64) AppleWebKit/537.36 (KHTML, like Gecko) Chrome/122.0.0.0\"\n",
    "}\n",
    "url = \"https://webapi.1111.com.tw/gqlApi/api/search?act=load_page\"\n",
    "\n",
    "# 動態網頁下一頁\n",
    "# 點選Network/Payload頁籤\n",
    "query = {\n",
    "    'ks': \"軟體工程\", \n",
    "    'page': \"13\", \n",
    "    'searchType': \"job\"\n",
    "}\n",
    "\n",
    "loadData = urllib.parse.urlencode(query).encode('utf-8')\n",
    "# print(loadData)\n",
    "response = request.urlopen(url=url, data=loadData, timeout=600)\n",
    "html = response.read()\n",
    "data = dict(json.loads(html.decode('utf-8')))\n",
    "print(data)\n",
    "\n"
   ]
  },
  {
   "cell_type": "code",
   "execution_count": null,
   "metadata": {},
   "outputs": [],
   "source": []
  },
  {
   "cell_type": "code",
   "execution_count": 3,
   "metadata": {},
   "outputs": [
    {
     "name": "stdout",
     "output_type": "stream",
     "text": [
      "[['面議（經常性薪資達 4 萬元或以上）'], ['面議（經常性薪資達 4 萬元或以上）'], ['月薪 30,000~40,000元'], ['面議（經常性薪資達 4 萬元或以上）'], ['面議（經常性薪資達 4 萬元或以上）'], ['時薪 350~550元'], ['面議（經常性薪資達 4 萬元或以上）'], ['面議（經常性薪資達 4 萬元或以上）'], ['月薪 50,000元以上'], ['面議（經常性薪資達 4 萬元或以上）'], ['面議（經常性薪資達 4 萬元或以上）'], ['月薪 40,000元以上'], ['月薪 50,000元以上'], ['面議（經常性薪資達 4 萬元或以上）'], ['面議（經常性薪資達 4 萬元或以上）'], ['面議（經常性薪資達 4 萬元或以上）'], ['月薪 30,000~45,000元'], ['月薪 45,000元以上'], ['面議（經常性薪資達 4 萬元或以上）'], ['面議（經常性薪資達 4 萬元或以上）'], ['月薪 46,000元以上'], ['月薪 30,000~35,000元'], ['月薪 38,000~45,000元'], ['面議（經常性薪資達 4 萬元或以上）'], ['面議（經常性薪資達 4 萬元或以上）'], ['面議（經常性薪資達 4 萬元或以上）'], ['面議（經常性薪資達 4 萬元或以上）'], ['面議（經常性薪資達 4 萬元或以上）'], ['面議（經常性薪資達 4 萬元或以上）'], ['面議（經常性薪資達 4 萬元或以上）'], ['面議（經常性薪資達 4 萬元或以上）'], ['月薪 41,800~70,000元'], ['面議（經常性薪資達 4 萬元或以上）'], ['月薪 38,000~50,000元'], ['月薪 59,000元以上'], ['面議（經常性薪資達 4 萬元或以上）'], ['面議（經常性薪資達 4 萬元或以上）'], ['面議（經常性薪資達 4 萬元或以上）'], ['月薪 44,000~69,000元'], ['月薪 40,000~50,000元'], ['面議（經常性薪資達 4 萬元或以上）'], ['月薪 35,000~60,000元'], ['月薪 57,750~149,100元'], ['面議（經常性薪資達 4 萬元或以上）'], ['面議（經常性薪資達 4 萬元或以上）'], ['面議（經常性薪資達 4 萬元或以上）'], ['面議（經常性薪資達 4 萬元或以上）'], ['月薪 40,000~56,000元'], ['面議（經常性薪資達 4 萬元或以上）'], ['月薪 40,000~65,000元'], ['面議（經常性薪資達 4 萬元或以上）'], ['面議（經常性薪資達 4 萬元或以上）'], ['面議（經常性薪資達 4 萬元或以上）'], ['面議（經常性薪資達 4 萬元或以上）'], ['面議（經常性薪資達 4 萬元或以上）'], ['月薪 30,000元以上'], ['面議（經常性薪資達 4 萬元或以上）'], ['面議（經常性薪資達 4 萬元或以上）'], ['面議（經常性薪資達 4 萬元或以上）'], ['月薪 50,000元以上'], ['面議（經常性薪資達 4 萬元或以上）'], ['面議（經常性薪資達 4 萬元或以上）'], ['面議（經常性薪資達 4 萬元或以上）'], ['月薪 30,000元以上'], ['面議（經常性薪資達 4 萬元或以上）'], ['面議（經常性薪資達 4 萬元或以上）'], ['面議（經常性薪資達 4 萬元或以上）'], ['月薪 50,000元以上'], ['月薪 30,000~35,000元'], ['月薪 31,800~36,300元'], ['月薪 34,000~37,000元'], ['月薪 31,500~50,000元'], ['面議（經常性薪資達 4 萬元或以上）'], ['面議（經常性薪資達 4 萬元或以上）'], ['面議（經常性薪資達 4 萬元或以上）'], ['月薪 50,000元以上'], ['月薪 50,000~70,000元'], ['月薪 36,000~50,000元'], ['月薪 36,000元以上'], ['面議（經常性薪資達 4 萬元或以上）']]\n"
     ]
    }
   ],
   "source": [
    "# 整合\n",
    "datas = []\n",
    "salary_list = []\n",
    "company_name = []\n",
    "company_loc = []\n",
    "update = []\n",
    "\n",
    "job_titles = driver.find_elements(By.CSS_SELECTOR, \"div.title a\")\n",
    "companys = driver.find_elements(By.CSS_SELECTOR,'div.company.organ > a')\n",
    "salarys = driver.find_elements(By.CSS_SELECTOR,'div.other > span')\n",
    "dates = driver.find_elements(By.CSS_SELECTOR,'div.data')\n",
    "\n",
    "\n",
    "for title, company, salary, date in  zip(job_titles, companys, salarys, dates):\n",
    "    job = title.get_attribute('title').replace('<em>', '').replace('</em>', '')\n",
    "    datas.append(job)\n",
    "        \n",
    "    company_title = company.get_attribute('title')\n",
    "    parts = company_title.replace('《公司名稱》', '').replace('《公司住址》', '').split('\\n')\n",
    "    # 移除 產業類別\n",
    "    del parts[1]\n",
    "    company_name.append(parts[0])\n",
    "    company_loc.append(parts[1])\n",
    "    \n",
    "    salary_content = salary.get_attribute('data-after').split('\\n')\n",
    "    # print(type(salary_content))\n",
    "    salary_list.append(salary_content)\n",
    "\n",
    "    time = date.text.split('\\n')\n",
    "    update.append(time)\n",
    "\n",
    "print(salary_list)"
   ]
  },
  {
   "cell_type": "code",
   "execution_count": null,
   "metadata": {},
   "outputs": [],
   "source": [
    "# 更新時間\n",
    "update = []\n",
    "dates = driver.find_elements(By.CSS_SELECTOR,'div.data')\n",
    "print(dates)\n",
    "for date in dates:\n",
    "    time = date.text.split('\\n')\n",
    "\n",
    "    update.append(time)\n",
    "print(update)"
   ]
  },
  {
   "cell_type": "code",
   "execution_count": null,
   "metadata": {},
   "outputs": [],
   "source": [
    "datas = []\n",
    "# 使用replace，因替代後有空白，需要去掉；re.sub()需要有替換的對應字\n",
    "job_titles = driver.find_elements(By.CSS_SELECTOR, \"div.title a\")\n",
    "\n",
    "for title in job_titles:\n",
    "    job = title.get_attribute('title').replace('<em>', '').replace('</em>', '')\n",
    "    datas.append(job)\n",
    "print('職務名稱', datas)\n"
   ]
  },
  {
   "cell_type": "code",
   "execution_count": null,
   "metadata": {},
   "outputs": [],
   "source": []
  },
  {
   "cell_type": "code",
   "execution_count": 7,
   "metadata": {},
   "outputs": [],
   "source": [
    "from selenium import webdriver  #從library中引入webdriver\n",
    "from selenium.webdriver.common.by import By # \n",
    "from selenium.webdriver.common.keys import Keys\n",
    "import time"
   ]
  },
  {
   "cell_type": "code",
   "execution_count": 2,
   "metadata": {},
   "outputs": [],
   "source": [
    "driver = webdriver.Chrome() \n",
    "driver.get('https://www.1111.com.tw/')\n",
    "keywords = input('請輸入關鍵字')\n",
    "\n",
    "driver.find_element(By.ID, \"searchDropdown\").send_keys(keywords)\n",
    "time.sleep(1)\n",
    "driver.find_element(By.CLASS_NAME, \"search-text\").click()\n"
   ]
  },
  {
   "cell_type": "code",
   "execution_count": 8,
   "metadata": {},
   "outputs": [],
   "source": [
    "# 整合\n",
    "datas = []\n",
    "salary_list = []\n",
    "company_name = []\n",
    "company_loc = []\n",
    "update = []\n",
    "\n",
    "job_titles = driver.find_elements(By.CSS_SELECTOR, \"div.title a\")\n",
    "companys = driver.find_elements(By.CSS_SELECTOR,'div.company.organ > a')\n",
    "salarys = driver.find_elements(By.CSS_SELECTOR,'div.other > span')\n",
    "dates = driver.find_elements(By.CSS_SELECTOR,'div.data')\n",
    "\n",
    "for i in range(3):\n",
    "    driver.execute_script(\"window.scrollTo(0, document.body.scrollHeight);\")\n",
    "    time.sleep(2)\n",
    "    for title, company, salary, date in zip(job_titles, companys, salarys, dates):\n",
    "        job = title.get_attribute('title').replace('<em>', '').replace('</em>', '')\n",
    "        datas.append(job)\n",
    "            \n",
    "        company_title = company.get_attribute('title')\n",
    "        parts = company_title.replace('《公司名稱》', '').replace('《公司住址》', '').split('\\n')\n",
    "        # 移除 產業類別\n",
    "        del parts[1]\n",
    "        company_name.append(parts[0])\n",
    "        company_loc.append(parts[1])\n",
    "        \n",
    "        salary_content = salary.get_attribute('data-after').split('\\n')\n",
    "        # print(type(salary_content))\n",
    "        salary_list.append(salary_content)\n",
    "\n",
    "        update_time = date.text.split('\\n')\n",
    "        update.append(update_time)\n",
    "\n",
    "        \n",
    "print('載入成功')"
   ]
  },
  {
   "cell_type": "code",
   "execution_count": 4,
   "metadata": {},
   "outputs": [
    {
     "name": "stdout",
     "output_type": "stream",
     "text": [
      "            更新時間                           職務名稱             公司名稱  \\\n",
      "0   [2024/04/07]                          系統分析師  屏基醫療財團法人屏東基督教醫院   \n",
      "1   [2024/04/07]                          系統分析師       盛大資訊股份有限公司   \n",
      "2   [2024/04/07]                          分析師助理       理財周刊股份有限公司   \n",
      "3   [2024/04/04]                          系統分析師       中嘉數位股份有限公司   \n",
      "4   [2024/04/03]                          解盤分析師   華南永昌綜合證券股份有限公司   \n",
      "..           ...                            ...              ...   \n",
      "75  [2024/03/01]                     數據分析師(信用卡)   華南商業銀行股份有限公司\\r   \n",
      "76  [2024/04/04]                     資料分析師(高雄市)     博敦電子股份有限公司\\r   \n",
      "77  [2024/04/03]  資料分析師 (Clinical Data Analyst)       晉加股份有限公司\\r   \n",
      "78  [2024/04/01]                     系統分析師(證券1)     凌群電腦股份有限公司\\r   \n",
      "79  [2024/04/07]          資訊安全分析師-【JD-00000084】     威策電腦股份有限公司\\r   \n",
      "\n",
      "            公司地址                  薪資待遇  \n",
      "0      屏東縣屏東市大連路  [面議（經常性薪資達 4 萬元或以上）]  \n",
      "1         暫不提供地址  [面議（經常性薪資達 4 萬元或以上）]  \n",
      "2     台北市中正區青島東路   [月薪 30,000~40,000元]  \n",
      "3      台北市內湖區瑞光路  [面議（經常性薪資達 4 萬元或以上）]  \n",
      "4     台北市松山區民生東路  [面議（經常性薪資達 4 萬元或以上）]  \n",
      "..           ...                   ...  \n",
      "75     台北市信義區松仁路        [月薪 50,000元以上]  \n",
      "76  高雄市三民區灣興街55巷   [月薪 50,000~70,000元]  \n",
      "77     台北市信義區信義路   [月薪 36,000~50,000元]  \n",
      "78     台北市萬華區峨嵋街        [月薪 36,000元以上]  \n",
      "79     桃園市桃園區富國路  [面議（經常性薪資達 4 萬元或以上）]  \n",
      "\n",
      "[80 rows x 5 columns]\n"
     ]
    }
   ],
   "source": [
    "# 測試pandas to csv\n",
    "import pandas as pd\n",
    "\n",
    "works = {\n",
    "    \"更新時間\": update,\n",
    "    \"職務名稱\": datas,\n",
    "    \"公司名稱\": company_name,\n",
    "    \"公司地址\": company_loc,\n",
    "    \"薪資待遇\": salary_list,\n",
    "    # \"工作內容\": content_text,\n",
    "}\n",
    "\n",
    "# df = pd.DataFrame.from_dict(works, orient='index')\n",
    "df = pd.DataFrame(works)\n",
    "\n",
    "print(df)\n",
    "# 指定要寫入的文件路徑\n",
    "file_path = 'work_info.csv'\n",
    "\n",
    "# 將 DataFrame 寫入 CSV 文件，解決亂碼問題\n",
    "df.to_csv(file_path, index=False, encoding='utf-8-sig')"
   ]
  }
 ],
 "metadata": {
  "kernelspec": {
   "display_name": "webenv",
   "language": "python",
   "name": "python3"
  },
  "language_info": {
   "codemirror_mode": {
    "name": "ipython",
    "version": 3
   },
   "file_extension": ".py",
   "mimetype": "text/x-python",
   "name": "python",
   "nbconvert_exporter": "python",
   "pygments_lexer": "ipython3",
   "version": "3.8.10"
  }
 },
 "nbformat": 4,
 "nbformat_minor": 2
}
