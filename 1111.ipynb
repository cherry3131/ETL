{
 "cells": [
  {
   "cell_type": "code",
   "execution_count": 1,
   "metadata": {},
   "outputs": [],
   "source": [
    "from selenium import webdriver  #從library中引入webdriver\n",
    "from selenium.webdriver.common.by import By # \n",
    "from selenium.webdriver.common.keys import Keys\n",
    "import time\n",
    "# driver = webdriver.Chrome() "
   ]
  },
  {
   "cell_type": "code",
   "execution_count": 29,
   "metadata": {},
   "outputs": [],
   "source": [
    "# 登入系統\n",
    "id_num = '填入id'\n",
    "pwd = '填入密碼'\n",
    "driver.get('https://www.1111.com.tw/login/index?ReturnUrl=https%3A%2F%2Fwww.1111.com.tw%2Fsearch%2Fjob%3Fc0%3D100900%252C100100%252C100200%252C100600%252C100700%252C100500%26d0%3D140600%252C140400%252C140500%252C140800%252C140200%252C140300%26page%3D1%26tt%3D1%26LoginStatus%3DLogOut')\n",
    "# find_dlement(抓取第一個符合的)\n",
    "driver.find_element(By.ID, \"id\").send_keys(id_num)\n",
    "driver.find_element(By.ID, \"pass\").send_keys(pwd)\n",
    "driver.find_element(By.ID, \"smlogin\").click()\n",
    "time.sleep(1)"
   ]
  },
  {
   "cell_type": "code",
   "execution_count": null,
   "metadata": {},
   "outputs": [],
   "source": [
    "# 搜尋職缺\n",
    "driver = webdriver.Chrome() \n",
    "driver.get('https://www.1111.com.tw/')\n",
    "keywords = input('請輸入關鍵字')\n",
    "\n",
    "driver.find_element(By.ID, \"searchDropdown\").send_keys(keywords)\n",
    "time.sleep(1)\n",
    "driver.find_element(By.CLASS_NAME, \"search-text\").click()\n",
    "\n"
   ]
  },
  {
   "cell_type": "code",
   "execution_count": null,
   "metadata": {},
   "outputs": [],
   "source": [
    "# 載入搜尋結果 => position title\n",
    "# id-># 替代 、class ->.替代 \n",
    "datas = []\n",
    "# 使用replace，因替代後有空白，需要去掉；re.sub()需要有替換的對應字\n",
    "job_titles = driver.find_elements(By.CSS_SELECTOR, \"div.title a\")\n",
    "\n",
    "for title in job_titles:\n",
    "    job = title.get_attribute('title').replace('<em>', '').replace('</em>', '')\n",
    "    datas.append(job)\n",
    "print('職務名稱', datas)\n",
    "\n"
   ]
  },
  {
   "cell_type": "code",
   "execution_count": null,
   "metadata": {},
   "outputs": [],
   "source": [
    "#  載入全部資料\n",
    "companys = driver.find_elements(By.CSS_SELECTOR,'div.company.organ > a')\n",
    "# print(companys)\n",
    "\n",
    "for company in companys:\n",
    "    company_title = company.get_attribute('title')\n",
    "    print(company_title)"
   ]
  },
  {
   "cell_type": "code",
   "execution_count": null,
   "metadata": {},
   "outputs": [],
   "source": [
    "# 分割company 資料，擷取\n",
    "# 載入搜尋結果 => company title\n",
    "import re\n",
    "companys = driver.find_elements(By.CSS_SELECTOR,'div.company.organ > a')\n",
    "\n",
    "for company in companys:\n",
    "    company_title = company.get_attribute('title')\n",
    "    parts = company_title.replace('《公司名稱》', '').replace('《公司住址》', '').split('\\n')\n",
    "    \n",
    "    # parts = re.split('《公司名稱》|《公司住址》|\\n',  company_title)\n",
    "    # print(type(parts))\n",
    "    print('公司名稱:'+ parts[0],'公司地址:'+ parts[2],sep='\\n')\n",
    "    "
   ]
  },
  {
   "cell_type": "code",
   "execution_count": null,
   "metadata": {},
   "outputs": [],
   "source": [
    "locations = driver.find_elements(By.CSS_SELECTOR,'div.other > a')\n",
    "\n",
    "\n",
    "for location in locations:\n",
    "    location_title = location.get_attribute('data-after')\n",
    "    print(location_title)"
   ]
  },
  {
   "cell_type": "code",
   "execution_count": null,
   "metadata": {},
   "outputs": [],
   "source": [
    "#結合在一起 position、comapany title\n",
    "titles = driver.find_elements(By.CSS_SELECTOR, \"div.title a\")\n",
    "companys = driver.find_elements(By.CSS_SELECTOR,'div.company.organ > a')\n",
    "\n",
    "for title, company in zip(titles, companys):\n",
    "    title_text = title.get_attribute('title').replace('<em>', '').replace('</em>', '')\n",
    "    company_title = company.get_attribute('title')\n",
    "    \n",
    "    print(\"Title:\", title_text)\n",
    "    print(\"Company:\", company_title)"
   ]
  }
 ],
 "metadata": {
  "kernelspec": {
   "display_name": "pttenv",
   "language": "python",
   "name": "python3"
  },
  "language_info": {
   "codemirror_mode": {
    "name": "ipython",
    "version": 3
   },
   "file_extension": ".py",
   "mimetype": "text/x-python",
   "name": "python",
   "nbconvert_exporter": "python",
   "pygments_lexer": "ipython3",
   "version": "3.8.10"
  }
 },
 "nbformat": 4,
 "nbformat_minor": 2
}
