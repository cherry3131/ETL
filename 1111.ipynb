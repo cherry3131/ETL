{
 "cells": [
  {
   "cell_type": "code",
   "execution_count": 1,
   "metadata": {},
   "outputs": [],
   "source": [
    "# 1111 job bank search by Selenium\n",
    "from selenium import webdriver  #從library中引入webdriver\n",
    "from selenium.webdriver.common.by import By # \n",
    "from selenium.webdriver.common.keys import Keys\n",
    "import time\n",
    "# driver = webdriver.Chrome() "
   ]
  },
  {
   "cell_type": "code",
   "execution_count": 29,
   "metadata": {},
   "outputs": [],
   "source": [
    "# login your account\n",
    "id_num = '填入id'\n",
    "pwd = '填入密碼'\n",
    "driver.get('https://www.1111.com.tw/login/index?ReturnUrl=https%3A%2F%2Fwww.1111.com.tw%2Fsearch%2Fjob%3Fc0%3D100900%252C100100%252C100200%252C100600%252C100700%252C100500%26d0%3D140600%252C140400%252C140500%252C140800%252C140200%252C140300%26page%3D1%26tt%3D1%26LoginStatus%3DLogOut')\n",
    "\n",
    "driver.find_element(By.ID, \"id\").send_keys(id_num)\n",
    "driver.find_element(By.ID, \"pass\").send_keys(pwd)\n",
    "driver.find_element(By.ID, \"smlogin\").click()\n",
    "time.sleep(1)"
   ]
  },
  {
   "cell_type": "code",
   "execution_count": null,
   "metadata": {},
   "outputs": [],
   "source": [
    "# Start to seach jobs\n",
    "# input keywords\n",
    "driver = webdriver.Chrome() \n",
    "driver.get('https://www.1111.com.tw/')\n",
    "keywords = input('請輸入關鍵字')\n",
    "\n",
    "driver.find_element(By.ID, \"searchDropdown\").send_keys(keywords)\n",
    "time.sleep(1)\n",
    "driver.find_element(By.CLASS_NAME, \"search-text\").click()\n",
    "\n"
   ]
  },
  {
   "cell_type": "code",
   "execution_count": null,
   "metadata": {},
   "outputs": [],
   "source": [
    "# 整合\n",
    "datas = []\n",
    "salary_list = []\n",
    "company_name = []\n",
    "company_loc = []\n",
    "update = []\n",
    "\n",
    "job_titles = driver.find_elements(By.CSS_SELECTOR, \"div.title a\")\n",
    "companys = driver.find_elements(By.CSS_SELECTOR,'div.company.organ > a')\n",
    "salarys = driver.find_elements(By.CSS_SELECTOR,'div.other > span')\n",
    "dates = driver.find_elements(By.CSS_SELECTOR,'div.data')\n",
    "\n",
    "\n",
    "for title, company, salary, date in zip(job_titles, companys, salarys, dates):\n",
    "    # Job titles\n",
    "    job = title.get_attribute('title').replace('<em>', '').replace('</em>', '')\n",
    "    datas.append(job)\n",
    "\n",
    "    # comapny_name、location   \n",
    "    company_title = company.get_attribute('title')\n",
    "    parts = company_title.replace('《公司名稱》', '').replace('《公司住址》', '').split('\\n')\n",
    "\n",
    "    # remove Industry category\n",
    "    del parts[1]\n",
    "    company_name.append(parts[0])\n",
    "    company_loc.append(parts[1])\n",
    "    \n",
    "    # salary\n",
    "    salary_content = salary.get_attribute('data-after').split('\\n')\n",
    "    salary_list.append(salary_content)\n",
    "    \n",
    "    # update time\n",
    "    time = date.text.split('\\n')\n",
    "    update.append(time)\n",
    "\n",
    "print('Success')"
   ]
  },
  {
   "cell_type": "code",
   "execution_count": null,
   "metadata": {},
   "outputs": [],
   "source": [
    "# output to csv\n",
    "# use pandas\n",
    "import pandas as pd\n",
    "\n",
    "works = {\n",
    "    \"更新時間\": update,\n",
    "    \"職務名稱\": datas,\n",
    "    \"公司名稱\": company_name,\n",
    "    \"公司地址\": company_loc,\n",
    "    \"薪資待遇\": salary_list,\n",
    "    }\n",
    "\n",
    "# df = pd.DataFrame.from_dict(works, orient='index')\n",
    "df = pd.DataFrame(works)\n",
    "\n",
    "print(df)\n",
    "# 指定要寫入的文件路徑\n",
    "file_path = 'work_info.csv'\n",
    "\n",
    "# 將 DataFrame 寫入 CSV 文件，解決亂碼問題\n",
    "df.to_csv(file_path, index=False, encoding='utf-8-sig')"
   ]
  }
 ],
 "metadata": {
  "kernelspec": {
   "display_name": "pttenv",
   "language": "python",
   "name": "python3"
  },
  "language_info": {
   "codemirror_mode": {
    "name": "ipython",
    "version": 3
   },
   "file_extension": ".py",
   "mimetype": "text/x-python",
   "name": "python",
   "nbconvert_exporter": "python",
   "pygments_lexer": "ipython3",
   "version": "3.8.10"
  }
 },
 "nbformat": 4,
 "nbformat_minor": 2
}
